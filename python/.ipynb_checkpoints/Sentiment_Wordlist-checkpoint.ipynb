{
 "cells": [
  {
   "cell_type": "markdown",
   "metadata": {
    "collapsed": true
   },
   "source": [
    "### Simple Sentiment Analysis \n",
    "##### Lynn Cherny, (@arnicas), arnicas@gmail.com"
   ]
  },
  {
   "cell_type": "markdown",
   "metadata": {},
   "source": [
    "A lot of sentiment analysis is done using simple word lists, rather than fancy parsing.  There are downsides to this, of course, because context and negation matter a lot.  \"It's not fun\"  is the opposite of \"It's fun,\" but a word-spotting approach probably won't pick up the difference.  This is one reason to be wary of sentiment analyses when you see them.\n",
    "\n",
    "However, if we use a broad enough \"window\" and inspect the results, it can still be useful to do it this way.  Let's try some simple line charts.\n",
    "\n",
    "Open up get_sentiment_chunks.py in your editor.\n",
    "\n",
    "Make sure the paths at the top are correct:\n",
    "\n",
    "    NEGWORDS = \"../data/sentiment_wordlists/negative-words.txt\"\n",
    "    POSWORDS = \"../data/sentiment_wordlists/positive-words.txt\""
   ]
  },
  {
   "cell_type": "markdown",
   "metadata": {
    "collapsed": true
   },
   "source": [
    "Run the code at the command line using a data file as your input (don't do it here, it won't work right...)\n",
    "    \n",
    "    > python get_sentiment_chunks.py ../data/SOTU/Abraham_Lincoln_December_3,_1861.txt 100"
   ]
  },
  {
   "cell_type": "markdown",
   "metadata": {},
   "source": [
    "The output file is called sentiment.json.  Move it to where the html can find it:"
   ]
  },
  {
   "cell_type": "code",
   "execution_count": 1,
   "metadata": {
    "collapsed": true
   },
   "outputs": [],
   "source": [
    "!mv sentiment.json ../outputdata/"
   ]
  },
  {
   "cell_type": "markdown",
   "metadata": {},
   "source": [
    "If you need to change the name of your data file from sentiment.json, you can, but remember to fix it in the html **net_sentiment.html.**\n",
    "\n",
    "Edit the title in your HTML too, if you want:\n",
    "\n",
    "````\n",
    "    <div class=\"titles\">\n",
    "    <h2 class=\"title\">Net Sentiment During SOTU</h2>\n",
    "  </div>\n",
    "````\n",
    "\n",
    "When you save and open that file in your localhost server, you should see an interactive line plot. \n",
    "\n",
    "<img src=\"img/sotu_1861_sent.png\">\n",
    "\n",
    "Roll over the dots to see the words at each point in the speech.  Above the middle line is net \"positive\" words, below is net \"negative\" words.\n",
    "\n",
    "Check out how overall \"negative\" Moby Dick is!\n",
    "\n",
    "<img src=\"img/moby_dick_sent.png\">"
   ]
  },
  {
   "cell_type": "code",
   "execution_count": null,
   "metadata": {
    "collapsed": true
   },
   "outputs": [],
   "source": []
  }
 ],
 "metadata": {
  "kernelspec": {
   "display_name": "Python 2",
   "language": "python",
   "name": "python2"
  },
  "language_info": {
   "codemirror_mode": {
    "name": "ipython",
    "version": 2
   },
   "file_extension": ".py",
   "mimetype": "text/x-python",
   "name": "python",
   "nbconvert_exporter": "python",
   "pygments_lexer": "ipython2",
   "version": "2.7.11"
  }
 },
 "nbformat": 4,
 "nbformat_minor": 0
}
