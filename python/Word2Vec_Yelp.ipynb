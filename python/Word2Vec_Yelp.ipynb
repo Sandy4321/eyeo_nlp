{
 "cells": [
  {
   "cell_type": "markdown",
   "metadata": {},
   "source": [
    "## Word2Vec Whirlwind Tour Using Yelp Review Data\n",
    "### Lynn Cherny (@arnicas, arnicas@gmail.com)\n",
    "\n",
    "**Note: This repo requires a gzipped file of data to be unzipped, in order to use it from scratch. Otherwise, you can load the model that I saved.**"
   ]
  },
  {
   "cell_type": "code",
   "execution_count": 2,
   "metadata": {
    "collapsed": false
   },
   "outputs": [],
   "source": [
    "import json\n",
    "import gensim\n",
    "import numpy as np\n",
    "import string\n",
    "import tsne as ts # local copy in the repo"
   ]
  },
  {
   "cell_type": "code",
   "execution_count": 2,
   "metadata": {
    "collapsed": false
   },
   "outputs": [],
   "source": [
    "%matplotlib inline"
   ]
  },
  {
   "cell_type": "code",
   "execution_count": 3,
   "metadata": {
    "collapsed": false
   },
   "outputs": [],
   "source": [
    "import matplotlib.pyplot as plt"
   ]
  },
  {
   "cell_type": "markdown",
   "metadata": {},
   "source": [
    "### You can skip the following steps if you just want to load the word2vec model I provided... but this is the raw data approach."
   ]
  },
  {
   "cell_type": "code",
   "execution_count": 1,
   "metadata": {
    "collapsed": true
   },
   "outputs": [],
   "source": [
    "# We need to unzip the data file to use it:\n",
    "!gunzip ../data/yelp/yelp_academic_dataset_reviews.json.gz"
   ]
  },
  {
   "cell_type": "code",
   "execution_count": 2,
   "metadata": {
    "collapsed": false
   },
   "outputs": [
    {
     "name": "stdout",
     "output_type": "stream",
     "text": [
      "total 541432\n",
      "drwxr-xr-x   4 lynn  staff        136 Jun 15 16:40 \u001b[34m.\u001b[m\u001b[m\n",
      "drwxr-xr-x  10 lynn  staff        340 Jun 15 16:13 \u001b[34m..\u001b[m\u001b[m\n",
      "-rw-r--r--   1 lynn  staff  216292386 Jun  4 17:42 yelp_academic_dataset_reviews.json\n",
      "-rw-r--r--   1 lynn  staff   60917407 Jun  4 17:42 yelp_w2vformat.mod\n"
     ]
    }
   ],
   "source": [
    "# Make sure it is there and unzipped:\n",
    "!ls -al ../data/yelp/"
   ]
  },
  {
   "cell_type": "code",
   "execution_count": 4,
   "metadata": {
    "collapsed": false
   },
   "outputs": [],
   "source": [
    "## Make sure this dataset is here and unzipped.\n",
    "data = []\n",
    "with open(\"../data/yelp/yelp_academic_dataset_reviews.json\") as handle:\n",
    "    for line in handle.readlines():\n",
    "        yelp = json.loads(line)\n",
    "        data.append(yelp)"
   ]
  },
  {
   "cell_type": "code",
   "execution_count": 6,
   "metadata": {
    "collapsed": false
   },
   "outputs": [
    {
     "data": {
      "text/plain": [
       "229907"
      ]
     },
     "execution_count": 6,
     "metadata": {},
     "output_type": "execute_result"
    }
   ],
   "source": [
    "len(data)"
   ]
  },
  {
   "cell_type": "code",
   "execution_count": 8,
   "metadata": {
    "collapsed": false
   },
   "outputs": [
    {
     "data": {
      "text/plain": [
       "{u'business_id': u'9yKzy9PApeiPPOUJEtnvkg',\n",
       " u'date': u'2011-01-26',\n",
       " u'review_id': u'fWKvX83p0-ka4JS3dc6E5A',\n",
       " u'stars': 5,\n",
       " u'text': u'My wife took me here on my birthday for breakfast and it was excellent.  The weather was perfect which made sitting outside overlooking their grounds an absolute pleasure.  Our waitress was excellent and our food arrived quickly on the semi-busy Saturday morning.  It looked like the place fills up pretty quickly so the earlier you get here the better.\\n\\nDo yourself a favor and get their Bloody Mary.  It was phenomenal and simply the best I\\'ve ever had.  I\\'m pretty sure they only use ingredients from their garden and blend them fresh when you order it.  It was amazing.\\n\\nWhile EVERYTHING on the menu looks excellent, I had the white truffle scrambled eggs vegetable skillet and it was tasty and delicious.  It came with 2 pieces of their griddled bread with was amazing and it absolutely made the meal complete.  It was the best \"toast\" I\\'ve ever had.\\n\\nAnyway, I can\\'t wait to go back!',\n",
       " u'type': u'review',\n",
       " u'user_id': u'rLtl8ZkDX5vH5nAx9C3q5Q',\n",
       " u'votes': {u'cool': 2, u'funny': 0, u'useful': 5}}"
      ]
     },
     "execution_count": 8,
     "metadata": {},
     "output_type": "execute_result"
    }
   ],
   "source": [
    "data[0]"
   ]
  },
  {
   "cell_type": "code",
   "execution_count": 10,
   "metadata": {
    "collapsed": false
   },
   "outputs": [],
   "source": [
    "revs = [d[u'text'] for d in data]"
   ]
  },
  {
   "cell_type": "code",
   "execution_count": 11,
   "metadata": {
    "collapsed": false
   },
   "outputs": [
    {
     "data": {
      "text/plain": [
       "u'My wife took me here on my birthday for breakfast and it was excellent.  The weather was perfect which made sitting outside overlooking their grounds an absolute pleasure.  Our waitress was excellent and our food arrived quickly on the semi-busy Saturday morning.  It looked like the place fills up pretty quickly so the earlier you get here the better.\\n\\nDo yourself a favor and get their Bloody Mary.  It was phenomenal and simply the best I\\'ve ever had.  I\\'m pretty sure they only use ingredients from their garden and blend them fresh when you order it.  It was amazing.\\n\\nWhile EVERYTHING on the menu looks excellent, I had the white truffle scrambled eggs vegetable skillet and it was tasty and delicious.  It came with 2 pieces of their griddled bread with was amazing and it absolutely made the meal complete.  It was the best \"toast\" I\\'ve ever had.\\n\\nAnyway, I can\\'t wait to go back!'"
      ]
     },
     "execution_count": 11,
     "metadata": {},
     "output_type": "execute_result"
    }
   ],
   "source": [
    "revs[0]"
   ]
  },
  {
   "cell_type": "markdown",
   "metadata": {},
   "source": [
    "## What is Word2Vec?\n",
    "\n",
    "\"Generally, word2vec is trained using something called a skip-gram model. The skip-gram model, pictures above, attempts to use the vector representation that it learns to predict the words that appear around a given word in the corpus. Essentially, it uses the context of the word as it is used in a variety of books and other literature to derive a meaningful set of numbers. If the “context” of two words is similar, they will have similar vector representations.\" ([Source](https://ayearofai.com/lenny-2-autoencoders-and-word-embeddings-oh-my-576403b0113a#.7hg9hiivy))\n",
    "\n",
    "\"In word2vec, a distributed representation of a word is used. Take a vector with several hundred dimensions (say 1000). Each word is representated by a distribution of weights across those elements. So instead of a one-to-one mapping between an element in the vector and a word, the representation of a word is spread across all of the elements in the vector, and each element in the vector contributes to the definition of many words.\n",
    "\n",
    "If I label the dimensions in a hypothetical word vector (there are no such pre-assigned labels in the algorithm of course), it might look a bit like this:\"\n",
    "\n",
    "<img src=\"img/word2vec-distributed-representation.png\">\n",
    "\n",
    "[Source](https://blog.acolyer.org/2016/04/21/the-amazing-power-of-word-vectors/)\n",
    "\n",
    "So that means we can do associative logic, or analogies, with these models:\n",
    "\n",
    "<img src=\"img/word2vec-king-queen-vectors.png\">\n",
    "\n",
    "Specifically, a large enough model of the right kind of language (like a lot of news, or lots of books) will allow you to get \"queen\" from putting in man, king, woman... and doing vector math on them.  So, king-man+woman=queen. \n",
    "\n",
    "[Source](https://blog.acolyer.org/2016/04/21/the-amazing-power-of-word-vectors/)\n",
    "\n",
    "<img src=\"img/word2vec-king-queen-composition.png\">\n",
    "\n",
    "[Source](https://blog.acolyer.org/2016/04/21/the-amazing-power-of-word-vectors/)\n"
   ]
  },
  {
   "cell_type": "markdown",
   "metadata": {},
   "source": [
    "## Creating a word2vec Model with Gensim \n",
    "\n",
    "This takes a while.  You don't need to do this, since I already did it.  You can skip down to the place where we load the file!"
   ]
  },
  {
   "cell_type": "code",
   "execution_count": 2,
   "metadata": {
    "collapsed": true
   },
   "outputs": [],
   "source": [
    "\"\"\" An alternate from gensim tutorials - just use all words in the model in a rewiew. No nltk used to split.\"\"\"\n",
    "\n",
    "import re\n",
    "\n",
    "class YelpReviews(object):\n",
    "    \"\"\"Iterate over sentences of all plaintext files in a directory \"\"\"\n",
    "    SPLIT_SENTENCES = re.compile(u\"[.!?:]\\s+\")  # split sentences on these characters\n",
    "\n",
    "    def __init__(self, objs, field):\n",
    "        self.field = field\n",
    "        self.objs = objs\n",
    "\n",
    "    def __iter__(self):\n",
    "        for obj in self.objs:\n",
    "            text = obj[self.field]\n",
    "            for sentence in self.SPLIT_SENTENCES.split(text):\n",
    "                yield gensim.utils.simple_preprocess(sentence, deacc=True)"
   ]
  },
  {
   "cell_type": "code",
   "execution_count": 3,
   "metadata": {
    "collapsed": false
   },
   "outputs": [],
   "source": [
    "## Don't do this is you already have the model file! Skip to the step after.\n",
    "## Otherwise, feel free to do it from scratch.\n",
    "## We pass in the full data objs and use the YelpReviews class to get the 'text' field for us.\n",
    "\n",
    "#model = gensim.models.Word2Vec(YelpReviews(data, 'text'), min_count=2, workers=2)\n",
    "\n",
    "#model.save('yelp_w2v_model.mod')\n",
    "\n",
    "#model.save_word2vec_format('yelp_w2vformat.mod')"
   ]
  },
  {
   "cell_type": "code",
   "execution_count": 3,
   "metadata": {
    "collapsed": false
   },
   "outputs": [],
   "source": [
    "# If you already have a model file, load it here:\n",
    "\n",
    "model = gensim.models.Word2Vec.load_word2vec_format('../data/yelp/yelp_w2vformat.mod')"
   ]
  },
  {
   "cell_type": "code",
   "execution_count": 9,
   "metadata": {
    "collapsed": false
   },
   "outputs": [
    {
     "data": {
      "text/plain": [
       "[(u'chix', 0.775646448135376),\n",
       " (u'afritada', 0.7616885304450989),\n",
       " (u'fricasee', 0.757086455821991),\n",
       " (u'jamburrito', 0.7448266744613647),\n",
       " (u'picatta', 0.7321239709854126),\n",
       " (u'terriyaki', 0.7299908995628357),\n",
       " (u'quesidilla', 0.7295070886611938),\n",
       " (u'poa', 0.7289084792137146),\n",
       " (u'cashew', 0.7263354063034058),\n",
       " (u'mongollion', 0.7261903285980225),\n",
       " (u'schwarma', 0.7240502834320068),\n",
       " (u'nuggets', 0.7234674692153931),\n",
       " (u'kebobs', 0.7221035957336426),\n",
       " (u'shwarma', 0.7172635793685913),\n",
       " (u'massala', 0.7168341279029846),\n",
       " (u'satays', 0.7165632247924805),\n",
       " (u'breasts', 0.7162624597549438),\n",
       " (u'pow', 0.7160738706588745),\n",
       " (u'satay', 0.7155523300170898),\n",
       " (u'tika', 0.7148066163063049)]"
      ]
     },
     "execution_count": 9,
     "metadata": {},
     "output_type": "execute_result"
    }
   ],
   "source": [
    "model.most_similar(positive=[\"chicken\", \"waffles\"], topn=20)"
   ]
  },
  {
   "cell_type": "code",
   "execution_count": 7,
   "metadata": {
    "collapsed": false
   },
   "outputs": [
    {
     "data": {
      "text/plain": [
       "[(u'waiter', 0.9612302184104919),\n",
       " (u'server', 0.9571093320846558),\n",
       " (u'bartender', 0.8327537775039673),\n",
       " (u'sever', 0.7705729603767395),\n",
       " (u'hostess', 0.7437390685081482),\n",
       " (u'busser', 0.743442714214325),\n",
       " (u'waitperson', 0.7366473078727722),\n",
       " (u'adrienne', 0.7293645739555359),\n",
       " (u'busboy', 0.7184486985206604),\n",
       " (u'brittany', 0.6880886554718018)]"
      ]
     },
     "execution_count": 7,
     "metadata": {},
     "output_type": "execute_result"
    }
   ],
   "source": [
    "model.most_similar(\"waitress\")"
   ]
  },
  {
   "cell_type": "code",
   "execution_count": 9,
   "metadata": {
    "collapsed": false
   },
   "outputs": [
    {
     "data": {
      "text/plain": [
       "[(u'fawn', <gensim.models.word2vec.Vocab at 0x114f77190>),\n",
       " (u'belligerence', <gensim.models.word2vec.Vocab at 0x115ae67d0>),\n",
       " (u'gai', <gensim.models.word2vec.Vocab at 0x1142a0f50>),\n",
       " (u'saimin', <gensim.models.word2vec.Vocab at 0x11487c150>),\n",
       " (u'mustachio', <gensim.models.word2vec.Vocab at 0x114b5b090>)]"
      ]
     },
     "execution_count": 9,
     "metadata": {},
     "output_type": "execute_result"
    }
   ],
   "source": [
    "model.vocab.items()[0:5]"
   ]
  },
  {
   "cell_type": "code",
   "execution_count": 10,
   "metadata": {
    "collapsed": false
   },
   "outputs": [
    {
     "data": {
      "text/plain": [
       "[(u'sicilian', 0.6312112808227539),\n",
       " (u'neopolitan', 0.600825846195221),\n",
       " (u'curst', 0.5792971849441528),\n",
       " (u'napoletana', 0.5774080157279968),\n",
       " (u'calzones', 0.571808397769928),\n",
       " (u'tasty', 0.5698818564414978),\n",
       " (u'margerita', 0.5669509172439575),\n",
       " (u'goood', 0.5603374242782593),\n",
       " (u'woodfired', 0.5591259598731995),\n",
       " (u'pepperoni', 0.5538390874862671)]"
      ]
     },
     "execution_count": 10,
     "metadata": {},
     "output_type": "execute_result"
    }
   ],
   "source": [
    "model.most_similar(['good', 'pizza'])"
   ]
  },
  {
   "cell_type": "code",
   "execution_count": 11,
   "metadata": {
    "collapsed": false
   },
   "outputs": [
    {
     "data": {
      "text/plain": [
       "[(u'sicilian', 0.515618085861206),\n",
       " (u'neopolitan', 0.5078280568122864),\n",
       " (u'curst', 0.505122184753418),\n",
       " (u'margerita', 0.49790459871292114),\n",
       " (u'woodfired', 0.4968816041946411),\n",
       " (u'calzones', 0.49494367837905884),\n",
       " (u'napoletana', 0.49478381872177124),\n",
       " (u'passable', 0.488089382648468),\n",
       " (u'magharita', 0.4854199290275574),\n",
       " (u'tasty', 0.4841715693473816)]"
      ]
     },
     "execution_count": 11,
     "metadata": {},
     "output_type": "execute_result"
    }
   ],
   "source": [
    "model.most_similar_cosmul(['good', 'pizza']) # less susceptible to extreme outliers"
   ]
  },
  {
   "cell_type": "code",
   "execution_count": 12,
   "metadata": {
    "collapsed": false
   },
   "outputs": [
    {
     "data": {
      "text/plain": [
       "[(u'dogs', 0.7924114465713501),\n",
       " (u'sonorian', 0.665751576423645),\n",
       " (u'nogales', 0.6413456797599792),\n",
       " (u'hellishly', 0.6131397485733032),\n",
       " (u'shortleash', 0.6123247742652893),\n",
       " (u'vienna', 0.6103050708770752),\n",
       " (u'ted', 0.6048383712768555),\n",
       " (u'hot', 0.602484941482544),\n",
       " (u'sonoran', 0.5981236696243286),\n",
       " (u'mongrel', 0.5980825424194336)]"
      ]
     },
     "execution_count": 12,
     "metadata": {},
     "output_type": "execute_result"
    }
   ],
   "source": [
    "model.most_similar(['dog'])"
   ]
  },
  {
   "cell_type": "code",
   "execution_count": 13,
   "metadata": {
    "collapsed": false
   },
   "outputs": [
    {
     "data": {
      "text/plain": [
       "[(u'salons', 0.6722588539123535),\n",
       " (u'stalgia', 0.5703273415565491),\n",
       " (u'dentist', 0.569134533405304),\n",
       " (u'spa', 0.5645554065704346),\n",
       " (u'studio', 0.5602301955223083),\n",
       " (u'nail', 0.5538337230682373),\n",
       " (u'stylist', 0.5511678457260132),\n",
       " (u'nursery', 0.5459238886833191),\n",
       " (u'phong', 0.5454494953155518),\n",
       " (u'boutique', 0.5449607372283936)]"
      ]
     },
     "execution_count": 13,
     "metadata": {},
     "output_type": "execute_result"
    }
   ],
   "source": [
    "model.most_similar(['salon'])"
   ]
  },
  {
   "cell_type": "code",
   "execution_count": 15,
   "metadata": {
    "collapsed": false
   },
   "outputs": [
    {
     "data": {
      "text/plain": [
       "[(u'bosa', 0.5738421082496643),\n",
       " (u'subs', 0.5509161949157715),\n",
       " (u'chompies', 0.5277150869369507),\n",
       " (u'doughnuts', 0.5184479355812073),\n",
       " (u'bagels', 0.5135747790336609),\n",
       " (u'barro', 0.511047899723053),\n",
       " (u'dunkin', 0.51071697473526),\n",
       " (u'barros', 0.5052490234375),\n",
       " (u'cpk', 0.5020578503608704),\n",
       " (u'nello', 0.49832355976104736)]"
      ]
     },
     "execution_count": 15,
     "metadata": {},
     "output_type": "execute_result"
    }
   ],
   "source": [
    "model.most_similar(positive=['donuts', 'nypd'], negative=['fireman'])"
   ]
  },
  {
   "cell_type": "markdown",
   "metadata": {},
   "source": [
    "## Now let's do some basic word sentiment stuff again... for the html side!"
   ]
  },
  {
   "cell_type": "code",
   "execution_count": 15,
   "metadata": {
    "collapsed": false
   },
   "outputs": [],
   "source": [
    "import nltk\n",
    "nltk.data.path = ['../nltk_data']\n",
    "from nltk.corpus import stopwords\n",
    "english_stops = stopwords.words('english')"
   ]
  },
  {
   "cell_type": "code",
   "execution_count": 13,
   "metadata": {
    "collapsed": false
   },
   "outputs": [
    {
     "data": {
      "text/plain": [
       "u'My wife took me here on my birthday for breakfast and it was excellent.  The weather was perfect which made sitting outside overlooking their grounds an absolute pleasure.  Our waitress was excellent and our food arrived quickly on the semi-busy Saturday morning.  It looked like the place fills up pretty quickly so the earlier you get here the better.\\n\\nDo yourself a favor and get their Bloody Mary.  It was phenomenal and simply the best I\\'ve ever had.  I\\'m pretty sure they only use ingredients from their garden and blend them fresh when you order it.  It was amazing.\\n\\nWhile EVERYTHING on the menu looks excellent, I had the white truffle scrambled eggs vegetable skillet and it was tasty and delicious.  It came with 2 pieces of their griddled bread with was amazing and it absolutely made the meal complete.  It was the best \"toast\" I\\'ve ever had.\\n\\nAnyway, I can\\'t wait to go back!'"
      ]
     },
     "execution_count": 13,
     "metadata": {},
     "output_type": "execute_result"
    }
   ],
   "source": [
    "revs[0]"
   ]
  },
  {
   "cell_type": "code",
   "execution_count": 16,
   "metadata": {
    "collapsed": false
   },
   "outputs": [],
   "source": [
    "tokens = [nltk.word_tokenize(rev) for rev in revs]  # this takes a long time. don't run unless you're sure."
   ]
  },
  {
   "cell_type": "code",
   "execution_count": 17,
   "metadata": {
    "collapsed": false
   },
   "outputs": [],
   "source": [
    "mystops = english_stops + [u\"n't\", u'...', u\"'ve\"]"
   ]
  },
  {
   "cell_type": "code",
   "execution_count": 18,
   "metadata": {
    "collapsed": true
   },
   "outputs": [],
   "source": [
    "def clean_tokens(tokens, stoplist):\n",
    "    \"\"\" Lowercases, takes out punct and stopwords and short strings \"\"\"\n",
    "    return [token.lower() for token in tokens if (token not in string.punctuation) and \n",
    "                (token.lower() not in stoplist) and len(token) > 2]"
   ]
  },
  {
   "cell_type": "code",
   "execution_count": 19,
   "metadata": {
    "collapsed": false
   },
   "outputs": [],
   "source": [
    "clean = [clean_tokens(tok, mystops) for tok in tokens]"
   ]
  },
  {
   "cell_type": "code",
   "execution_count": 20,
   "metadata": {
    "collapsed": false
   },
   "outputs": [],
   "source": [
    "from nltk import Text\n",
    "\n",
    "allclean = [y for x in clean for y in x] # flatten the list of lists\n",
    "cleantext = Text(allclean)"
   ]
  },
  {
   "cell_type": "code",
   "execution_count": 21,
   "metadata": {
    "collapsed": false
   },
   "outputs": [],
   "source": [
    "mostcommon = cleantext.vocab().most_common()[0:1500]\n",
    "mostcommon_words = [word[0] for word in mostcommon]"
   ]
  },
  {
   "cell_type": "code",
   "execution_count": 23,
   "metadata": {
    "collapsed": false
   },
   "outputs": [
    {
     "data": {
      "text/plain": [
       "[u'good',\n",
       " u'place',\n",
       " u'food',\n",
       " u'great',\n",
       " u'like',\n",
       " u'one',\n",
       " u'get',\n",
       " u'time',\n",
       " u'would',\n",
       " u'really',\n",
       " u'service',\n",
       " u'back']"
      ]
     },
     "execution_count": 23,
     "metadata": {},
     "output_type": "execute_result"
    }
   ],
   "source": [
    "mostcommon_words[0:12]"
   ]
  },
  {
   "cell_type": "code",
   "execution_count": 24,
   "metadata": {
    "collapsed": false
   },
   "outputs": [],
   "source": [
    "# thing required to get the vectors for tsne\n",
    "\n",
    "def get_vectors(words, model):\n",
    "    # requires model be in the binary format, not gensim's\n",
    "    word_vectors = []\n",
    "    word_labels = []\n",
    "    for word in words:\n",
    "        if word in model:\n",
    "            word_vectors.append( model[word] )\n",
    "            word_labels.append(word)\n",
    "    return word_vectors, word_labels"
   ]
  },
  {
   "cell_type": "code",
   "execution_count": 25,
   "metadata": {
    "collapsed": false
   },
   "outputs": [],
   "source": [
    "mymodel = gensim.models.Word2Vec.load_word2vec_format('../data/yelp/yelp_w2vformat.mod')\n",
    "vectors, labels = get_vectors(mostcommon_words, mymodel)"
   ]
  },
  {
   "cell_type": "code",
   "execution_count": 26,
   "metadata": {
    "collapsed": false
   },
   "outputs": [
    {
     "data": {
      "text/plain": [
       "[u'good',\n",
       " u'place',\n",
       " u'food',\n",
       " u'great',\n",
       " u'like',\n",
       " u'one',\n",
       " u'get',\n",
       " u'time',\n",
       " u'would',\n",
       " u'really',\n",
       " u'service',\n",
       " u'back']"
      ]
     },
     "execution_count": 26,
     "metadata": {},
     "output_type": "execute_result"
    }
   ],
   "source": [
    "# should be same as top words above\n",
    "labels[:12]"
   ]
  },
  {
   "cell_type": "code",
   "execution_count": 27,
   "metadata": {
    "collapsed": false
   },
   "outputs": [
    {
     "name": "stdout",
     "output_type": "stream",
     "text": [
      "Preprocessing the data using PCA...\n",
      "Computing pairwise distances...\n",
      "Computing P-values for point  0  of  1495 ...\n",
      "Computing P-values for point  500  of  1495 ...\n",
      "Computing P-values for point  1000  of  1495 ...\n",
      "Mean value of sigma:  0.574863843459\n",
      "Iteration  10 : error is  24.6240356965\n",
      "Iteration  20 : error is  22.9622313279\n",
      "Iteration  30 : error is  21.0573571214\n",
      "Iteration  40 : error is  20.2895732296\n",
      "Iteration  50 : error is  20.0607934593\n",
      "Iteration  60 : error is  19.9739325244\n",
      "Iteration  70 : error is  19.9388011249\n",
      "Iteration  80 : error is  19.9244659201\n",
      "Iteration  90 : error is  19.9223337917\n",
      "Iteration  100 : error is  19.9122110541\n",
      "Iteration  110 : error is  3.18940403197\n",
      "Iteration  120 : error is  2.66282715012\n",
      "Iteration  130 : error is  2.32782535753\n",
      "Iteration  140 : error is  2.11269642961\n",
      "Iteration  150 : error is  1.97516057824\n",
      "Iteration  160 : error is  1.88339515931\n",
      "Iteration  170 : error is  1.81099643064\n",
      "Iteration  180 : error is  1.7501762486\n",
      "Iteration  190 : error is  1.69927301513\n",
      "Iteration  200 : error is  1.65751815895\n",
      "Iteration  210 : error is  1.62254251336\n",
      "Iteration  220 : error is  1.59242671755\n",
      "Iteration  230 : error is  1.56611514394\n",
      "Iteration  240 : error is  1.54299871814\n",
      "Iteration  250 : error is  1.52259930439\n",
      "Iteration  260 : error is  1.50431293921\n",
      "Iteration  270 : error is  1.48774293908\n",
      "Iteration  280 : error is  1.47269273318\n",
      "Iteration  290 : error is  1.45911259834\n",
      "Iteration  300 : error is  1.44669624367\n",
      "Iteration  310 : error is  1.43519125549\n",
      "Iteration  320 : error is  1.42460395427\n",
      "Iteration  330 : error is  1.41497618961\n",
      "Iteration  340 : error is  1.40608402944\n",
      "Iteration  350 : error is  1.39778661502\n",
      "Iteration  360 : error is  1.3900344348\n",
      "Iteration  370 : error is  1.38280369805\n",
      "Iteration  380 : error is  1.37604213011\n",
      "Iteration  390 : error is  1.3697607574\n",
      "Iteration  400 : error is  1.36388682191\n",
      "Iteration  410 : error is  1.35827073712\n",
      "Iteration  420 : error is  1.35292001458\n",
      "Iteration  430 : error is  1.34789370172\n",
      "Iteration  440 : error is  1.34317802165\n",
      "Iteration  450 : error is  1.33874335522\n",
      "Iteration  460 : error is  1.33453790794\n",
      "Iteration  470 : error is  1.33053970467\n",
      "Iteration  480 : error is  1.32668606761\n",
      "Iteration  490 : error is  1.32302974674\n",
      "Iteration  500 : error is  1.31958018054\n",
      "Iteration  510 : error is  1.31625812557\n",
      "Iteration  520 : error is  1.31304118643\n",
      "Iteration  530 : error is  1.30991285936\n",
      "Iteration  540 : error is  1.30687129756\n",
      "Iteration  550 : error is  1.30398933889\n",
      "Iteration  560 : error is  1.30125859548\n",
      "Iteration  570 : error is  1.29862652836\n",
      "Iteration  580 : error is  1.29612551606\n",
      "Iteration  590 : error is  1.29378587328\n",
      "Iteration  600 : error is  1.29155726087\n",
      "Iteration  610 : error is  1.28942102217\n",
      "Iteration  620 : error is  1.28740570408\n",
      "Iteration  630 : error is  1.2854638041\n",
      "Iteration  640 : error is  1.28356273121\n",
      "Iteration  650 : error is  1.28172675012\n",
      "Iteration  660 : error is  1.27994195083\n",
      "Iteration  670 : error is  1.27821609784\n",
      "Iteration  680 : error is  1.27652579208\n",
      "Iteration  690 : error is  1.27486743711\n",
      "Iteration  700 : error is  1.27326623993\n",
      "Iteration  710 : error is  1.27173258798\n",
      "Iteration  720 : error is  1.27024731686\n",
      "Iteration  730 : error is  1.26876540235\n",
      "Iteration  740 : error is  1.2673808549\n",
      "Iteration  750 : error is  1.26608327494\n",
      "Iteration  760 : error is  1.26483871572\n",
      "Iteration  770 : error is  1.26363301542\n",
      "Iteration  780 : error is  1.26244789849\n",
      "Iteration  790 : error is  1.26128683907\n",
      "Iteration  800 : error is  1.26015360009\n",
      "Iteration  810 : error is  1.2590653123\n",
      "Iteration  820 : error is  1.25800173483\n",
      "Iteration  830 : error is  1.25697871015\n",
      "Iteration  840 : error is  1.25600325733\n",
      "Iteration  850 : error is  1.25506281393\n",
      "Iteration  860 : error is  1.25414308394\n",
      "Iteration  870 : error is  1.25324601296\n",
      "Iteration  880 : error is  1.25237255384\n",
      "Iteration  890 : error is  1.25152416983\n",
      "Iteration  900 : error is  1.25070084011\n",
      "Iteration  910 : error is  1.24990305524\n",
      "Iteration  920 : error is  1.24911613191\n",
      "Iteration  930 : error is  1.24834407223\n",
      "Iteration  940 : error is  1.24759267832\n",
      "Iteration  950 : error is  1.24686592259\n",
      "Iteration  960 : error is  1.24616237045\n",
      "Iteration  970 : error is  1.24547349941\n",
      "Iteration  980 : error is  1.24480022243\n",
      "Iteration  990 : error is  1.2441481757\n",
      "Iteration  1000 : error is  1.24351034\n"
     ]
    }
   ],
   "source": [
    "res = ts.tsne(np.asfarray(vectors, dtype='float'), 2, 50, 20)"
   ]
  },
  {
   "cell_type": "markdown",
   "metadata": {},
   "source": [
    "The \"AFINN-111.txt\" file is another sentiment file."
   ]
  },
  {
   "cell_type": "code",
   "execution_count": 16,
   "metadata": {
    "collapsed": false
   },
   "outputs": [],
   "source": [
    "from collections import defaultdict\n",
    "sentiment = defaultdict(int)\n",
    "with open('../data/sentiment_wordlists/AFINN-111.txt') as handle:\n",
    "    for line in handle.readlines():\n",
    "        word = line.split('\\t')[0]\n",
    "        polarity = line.split('\\t')[1]\n",
    "        sentiment[word] = int(polarity)"
   ]
  },
  {
   "cell_type": "code",
   "execution_count": 17,
   "metadata": {
    "collapsed": false
   },
   "outputs": [
    {
     "data": {
      "text/plain": [
       "0"
      ]
     },
     "execution_count": 17,
     "metadata": {},
     "output_type": "execute_result"
    }
   ],
   "source": [
    "sentiment['pho']"
   ]
  },
  {
   "cell_type": "code",
   "execution_count": 18,
   "metadata": {
    "collapsed": false
   },
   "outputs": [
    {
     "data": {
      "text/plain": [
       "3"
      ]
     },
     "execution_count": 18,
     "metadata": {},
     "output_type": "execute_result"
    }
   ],
   "source": [
    "sentiment['good']"
   ]
  },
  {
   "cell_type": "code",
   "execution_count": 19,
   "metadata": {
    "collapsed": false
   },
   "outputs": [
    {
     "data": {
      "text/plain": [
       "-3"
      ]
     },
     "execution_count": 19,
     "metadata": {},
     "output_type": "execute_result"
    }
   ],
   "source": [
    "sentiment['angry']"
   ]
  },
  {
   "cell_type": "code",
   "execution_count": null,
   "metadata": {
    "collapsed": true
   },
   "outputs": [],
   "source": [
    "sentiment['pizza']"
   ]
  },
  {
   "cell_type": "code",
   "execution_count": 201,
   "metadata": {
    "collapsed": false
   },
   "outputs": [],
   "source": [
    "def render_json( vectors, labels, filename ):\n",
    "    output = []\n",
    "    vectors = np.array(vectors)\n",
    "    for i in range(len(vectors)):\n",
    "        new_hash = {}\n",
    "        new_hash[\"word\"] = str(labels[i])\n",
    "        new_hash[\"x\"] = int(vectors[i][0])\n",
    "        new_hash[\"y\"] = int(vectors[i][1])\n",
    "        new_hash[\"sentiment\"] = sentiment[str(labels[i])]\n",
    "        output.append(new_hash)\n",
    "    with open(filename, 'w') as handle:\n",
    "        json.dump(output, handle)"
   ]
  },
  {
   "cell_type": "code",
   "execution_count": 210,
   "metadata": {
    "collapsed": true
   },
   "outputs": [],
   "source": [
    "render_json(res, labels, \"../outputdata/yelp.json\")"
   ]
  },
  {
   "cell_type": "markdown",
   "metadata": {},
   "source": [
    "### TSNE Plotting Stuff"
   ]
  },
  {
   "cell_type": "code",
   "execution_count": 33,
   "metadata": {
    "collapsed": false
   },
   "outputs": [
    {
     "data": {
      "text/plain": [
       "<matplotlib.collections.PathCollection at 0x1eee6ac10>"
      ]
     },
     "execution_count": 33,
     "metadata": {},
     "output_type": "execute_result"
    },
    {
     "data": {
      "image/png": "[encoded data removed]",
      "text/plain": [
       "<matplotlib.figure.Figure at 0x1ec472a50>"
      ]
     },
     "metadata": {},
     "output_type": "display_data"
    }
   ],
   "source": [
    "plt.figure(figsize=(15, 15))\n",
    "plt.scatter(res[:,0], res[:,1], s=10, color='gray', alpha=0.2)"
   ]
  },
  {
   "cell_type": "markdown",
   "metadata": {
    "collapsed": false
   },
   "source": [
    "If you go to the file **tsne_yelp.html**, you can interact with this and see what the words are."
   ]
  },
  {
   "cell_type": "code",
   "execution_count": null,
   "metadata": {
    "collapsed": true
   },
   "outputs": [],
   "source": []
  }
 ],
 "metadata": {
  "kernelspec": {
   "display_name": "Python 2",
   "language": "python",
   "name": "python2"
  },
  "language_info": {
   "codemirror_mode": {
    "name": "ipython",
    "version": 2
   },
   "file_extension": ".py",
   "mimetype": "text/x-python",
   "name": "python",
   "nbconvert_exporter": "python",
   "pygments_lexer": "ipython2",
   "version": "2.7.11"
  }
 },
 "nbformat": 4,
 "nbformat_minor": 0
}
